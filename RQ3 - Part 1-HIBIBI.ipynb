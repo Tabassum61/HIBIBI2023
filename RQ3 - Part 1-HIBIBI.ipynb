{
  "nbformat": 4,
  "nbformat_minor": 0,
  "metadata": {
    "colab": {
      "provenance": []
    },
    "kernelspec": {
      "name": "python3",
      "display_name": "Python 3"
    },
    "language_info": {
      "name": "python"
    }
  },
  "cells": [
    {
      "cell_type": "code",
      "execution_count": 1,
      "metadata": {
        "id": "XN-j-l4S8iJ9"
      },
      "outputs": [],
      "source": [
        "import pandas as pd\n",
        "import numpy as np\n",
        "import networkx as nx\n",
        "from networkx.algorithms.tree.mst import count\n",
        "\n",
        "from os import listdir\n",
        "from os.path import isfile, join\n",
        "\n",
        "import matplotlib.pyplot as plt\n",
        "\n",
        "from sklearn import datasets\n",
        "from sklearn.tree import DecisionTreeClassifier\n",
        "from sklearn.naive_bayes import GaussianNB\n",
        "from sklearn.linear_model import Perceptron\n",
        "from sklearn.linear_model import LogisticRegression\n",
        "from sklearn.neighbors import KNeighborsClassifier\n",
        "from sklearn import svm\n",
        "from sklearn import metrics\n",
        "from sklearn.metrics import f1_score\n",
        "from sklearn.model_selection import train_test_split\n",
        "from sklearn.ensemble import AdaBoostClassifier\n",
        "from sklearn.ensemble import GradientBoostingClassifier\n",
        "from sklearn.ensemble import RandomForestClassifier\n",
        "from sklearn.neural_network import MLPClassifier\n",
        "import xgboost as xgb\n",
        "import seaborn as sns\n",
        "\n",
        "import time\n",
        "import warnings\n",
        "import random\n",
        "from typing_extensions import Counter\n",
        "\n",
        "warnings.filterwarnings(action = 'ignore')\n",
        "start_time = time.time()"
      ]
    },
    {
      "cell_type": "code",
      "execution_count": 2,
      "metadata": {
        "colab": {
          "base_uri": "https://localhost:8080/"
        },
        "id": "P7_iy04jFbHN",
        "outputId": "3dfc2077-4da8-4286-fc01-162e4c3b72c4"
      },
      "outputs": [
        {
          "output_type": "stream",
          "name": "stdout",
          "text": [
            "Drive already mounted at /content/drive; to attempt to forcibly remount, call drive.mount(\"/content/drive\", force_remount=True).\n",
            "/content/drive/MyDrive/Colab Notebooks/datasets/male/td/\n"
          ]
        }
      ],
      "source": [
        "from google.colab import drive\n",
        "drive.mount('/content/drive')\n",
        "data_set = []\n",
        "tdDirectory=\"/content/drive/MyDrive/Colab Notebooks/datasets/male/td/\"\n",
        "asdDirectory=\"/content/drive/MyDrive/Colab Notebooks/datasets/male/asd/\"\n",
        "matSize = 116\n",
        "\n",
        "tdFiles = [f for f in listdir(tdDirectory) if isfile(join(tdDirectory, f))]\n",
        "asdFiles = [f for f in listdir(asdDirectory) if isfile(join(asdDirectory, f))]\n",
        "\n",
        "\n",
        "print(tdDirectory)\n",
        "for files in tdFiles:\n",
        "  np.loadtxt(tdDirectory + files)\n"
      ]
    },
    {
      "cell_type": "markdown",
      "metadata": {
        "id": "27Z1DAL-zYzx"
      },
      "source": [
        "##Graph representaion"
      ]
    },
    {
      "cell_type": "code",
      "execution_count": 3,
      "metadata": {
        "id": "36jhHpxbzXlh"
      },
      "outputs": [],
      "source": [
        "# implementation of an undirected graph using Adjacency Lists\n",
        "class Vertex:\n",
        "    def __init__(self, name):\n",
        "        self.name = name\n",
        "        self.neighbors = list()\n",
        "\n",
        "    def add_neighbor(self, v):\n",
        "        if v not in self.neighbors:\n",
        "            self.neighbors.append(v)\n",
        "\n",
        "class Graph:\n",
        "    def __init__(self):\n",
        "        self.vertices = {}\n",
        "\n",
        "    def add_vertex(self, vertex):\n",
        "        if isinstance(vertex, Vertex) and vertex.name not in self.vertices:\n",
        "            self.vertices[vertex.name] = vertex\n",
        "            return True\n",
        "        else:\n",
        "            return False\n",
        "\n",
        "    def add_edge(self, u, v):\n",
        "        if u in self.vertices and v in self.vertices:\n",
        "            if v not in self.vertices[u].neighbors: # removing multiple edges between two nodes\n",
        "                self.vertices[u].add_neighbor(v)\n",
        "                return True\n",
        "        else:\n",
        "            return False\n",
        "\n",
        "    def sort_neighbors(self):\n",
        "        for x in self.vertices:\n",
        "            self.vertices[x].neighbors.sort()\n",
        "\n",
        "    def print_graph(self):\n",
        "        for key in self.vertices.keys():\n",
        "            print(str(key) + \": \" + str(self.vertices[key].neighbors))"
      ]
    },
    {
      "cell_type": "markdown",
      "metadata": {
        "id": "3WAgmRjEzfu5"
      },
      "source": [
        "##k-core algorithm"
      ]
    },
    {
      "cell_type": "code",
      "execution_count": 4,
      "metadata": {
        "id": "P3JpFXxKzeYQ"
      },
      "outputs": [],
      "source": [
        "# https://pdfs.semanticscholar.org/fce2/bc7618628c0481d4cf6a43f5f368e7f8b9c0.pdf\n",
        "# VZ algorithm implementation of k-core -- O(m)\n",
        "\n",
        "def k_core_implementation(G):\n",
        "    n = len(G.vertices)\n",
        "\n",
        "    # calculating the max degree in the graph and also degree of each node\n",
        "    deg = [0]*n\n",
        "    md = 0 # maximum degree\n",
        "    for i in range(n):\n",
        "        deg[i] = len(G.vertices[i].neighbors)\n",
        "        md = max(deg[i], md)\n",
        "    md += 1 # incrementing maximum degree by 1 to include the max index in the bucket\n",
        "\n",
        "    # calculating the size of each bucket\n",
        "    bucket = [0]*md\n",
        "    for i in range(n):\n",
        "        bucket[deg[i]] += 1\n",
        "\n",
        "    # partial sum of bucket size, denotes the starting index of each bucket\n",
        "    cursum = 0\n",
        "    for i in range(md):\n",
        "        val = bucket[i]\n",
        "        bucket[i] = cursum\n",
        "        cursum += val\n",
        "\n",
        "    # sorting using bucket sort and keeping the position in pos array\n",
        "    valBucket = [0]*md\n",
        "    vert = [0]*n # sorted array\n",
        "    pos = [0]*n # pos of a node in sorted bucket\n",
        "    for i in range(n):\n",
        "        pos[i] = bucket[deg[i]] + valBucket[deg[i]] # starting position of bucket + val found so far\n",
        "        vert[pos[i]] = i\n",
        "        valBucket[deg[i]] += 1\n",
        "    # calculating the core of each node by eliminating lower degree nodes\n",
        "    for i in range(n):\n",
        "        u = vert[i]\n",
        "        for v in G.vertices[u].neighbors:\n",
        "            if(deg[v] > deg[u]):\n",
        "                curDeg = deg[v]\n",
        "                posV = pos[v]\n",
        "                firstValOfCurBucketInd = bucket[curDeg]\n",
        "                firstValOfCurBucket = vert[firstValOfCurBucketInd]\n",
        "                if firstValOfCurBucket != v: # swap the values inside bucket\n",
        "                    pos[v] = firstValOfCurBucketInd\n",
        "                    pos[firstValOfCurBucket] = posV\n",
        "                    vert[firstValOfCurBucketInd] = v\n",
        "                    vert[posV] = firstValOfCurBucket\n",
        "                bucket[curDeg] += 1\n",
        "                deg[v] -= 1\n",
        "    return deg"
      ]
    },
    {
      "cell_type": "markdown",
      "metadata": {
        "id": "Gzgx6h0VxdxG"
      },
      "source": [
        "##Summary matrix for td files"
      ]
    },
    {
      "cell_type": "code",
      "source": [
        "numOfTrainTDFiles = int(len(tdFiles) * 0.80)\n",
        "numOfTestTDFiles = len(tdFiles) - numOfTrainTDFiles\n",
        "\n",
        "random.shuffle(tdFiles)\n",
        "trainTDFiles = tdFiles[:numOfTrainTDFiles]\n",
        "testTDFiles = tdFiles[numOfTrainTDFiles:]\n",
        "\n",
        "print(\"[TD Files] Total: \", len(tdFiles))\n",
        "print(\"[TD Files] Train:\", len(trainTDFiles))\n",
        "print(\"[TD Files] Test\", len(testTDFiles))"
      ],
      "metadata": {
        "id": "K1PlmkixsHvg",
        "colab": {
          "base_uri": "https://localhost:8080/"
        },
        "outputId": "071b60a8-186d-4ee5-f533-add30b03eaeb"
      },
      "execution_count": 5,
      "outputs": [
        {
          "output_type": "stream",
          "name": "stdout",
          "text": [
            "[TD Files] Total:  418\n",
            "[TD Files] Train: 334\n",
            "[TD Files] Test 84\n"
          ]
        }
      ]
    },
    {
      "cell_type": "code",
      "execution_count": 6,
      "metadata": {
        "id": "tbPQtPqVxjRN",
        "colab": {
          "base_uri": "https://localhost:8080/"
        },
        "outputId": "a9b4ff56-8071-4125-9eea-8cbb80dea8f2"
      },
      "outputs": [
        {
          "output_type": "stream",
          "name": "stdout",
          "text": [
            "[[1 1 0 ... 0 0 0]\n",
            " [1 1 0 ... 0 0 0]\n",
            " [0 0 1 ... 0 0 0]\n",
            " ...\n",
            " [0 0 0 ... 1 1 0]\n",
            " [0 0 0 ... 1 1 1]\n",
            " [0 0 0 ... 0 1 1]]\n"
          ]
        }
      ],
      "source": [
        "\n",
        "finalMatrix = np.zeros((matSize, matSize), dtype=int)\n",
        "matrix = np.zeros((matSize, matSize), dtype=int)\n",
        "\n",
        "for file in trainTDFiles:\n",
        "    cur_matrix = np.loadtxt(tdDirectory + file, dtype=int)\n",
        "    finalMatrix = finalMatrix + cur_matrix\n",
        "\n",
        "\n",
        "finalMatrix = finalMatrix / len(trainTDFiles)\n",
        "# print(finalMatrix)\n",
        "\n",
        "threshold = 0.75\n",
        "# lowerbound = 45\n",
        "# upperbound = 75\n",
        "# increment = 5\n",
        "# for x in range(lowerbound, upperbound+increment, increment):\n",
        "#   threshold = x / 100\n",
        "tempMatrix = finalMatrix >= threshold\n",
        "tempMatrix = tempMatrix.astype(np.int)\n",
        "tdFinalMatrix = tempMatrix\n",
        "\n",
        "print(tdFinalMatrix)"
      ]
    },
    {
      "cell_type": "markdown",
      "metadata": {
        "id": "8cRb19iPzKD5"
      },
      "source": [
        "##Populate graph for the td summary matrix"
      ]
    },
    {
      "cell_type": "code",
      "execution_count": 7,
      "metadata": {
        "id": "scVk0xc6zI44"
      },
      "outputs": [],
      "source": [
        "tdSummaryGraph = Graph()\n",
        "n = tdFinalMatrix.shape[0]\n",
        "for x in range(0, n):\n",
        "  tdSummaryGraph.add_vertex(Vertex(x))\n",
        "x = 0;\n",
        "for line in tdFinalMatrix:\n",
        "  y = 0;\n",
        "  for val in line:\n",
        "      if val == 1:\n",
        "          tdSummaryGraph.add_edge(x, y)\n",
        "      y = y + 1\n",
        "  x = x + 1\n",
        "\n",
        "# print(\"adjacency list, representing the neighbors of each node:\")\n",
        "# tdSummaryGraph.print_graph()"
      ]
    },
    {
      "cell_type": "markdown",
      "metadata": {
        "id": "cvTN9jAG4Ah7"
      },
      "source": [
        "##k-core decompositon on td summary graph"
      ]
    },
    {
      "cell_type": "code",
      "execution_count": 8,
      "metadata": {
        "id": "dG_MaWZc3_AH",
        "colab": {
          "base_uri": "https://localhost:8080/"
        },
        "outputId": "0e7a9328-9ba9-410f-b148-394898f22182"
      },
      "outputs": [
        {
          "output_type": "stream",
          "name": "stdout",
          "text": [
            "Max core: 8\n",
            "11 [16, 17, 28, 29, 62, 63, 72, 78, 79, 80, 81]\n"
          ]
        }
      ],
      "source": [
        "tdKCore = k_core_implementation(tdSummaryGraph)\n",
        "# print(kCore)\n",
        "maxKCore = max(tdKCore)\n",
        "print(\"Max core:\", maxKCore)\n",
        "\n",
        "tdSummaryKCoreNodes = []\n",
        "x = 0\n",
        "for val in tdKCore:\n",
        "  if val >= maxKCore:\n",
        "    tdSummaryKCoreNodes.append(x)\n",
        "  x = x + 1\n",
        "print(len(tdSummaryKCoreNodes), tdSummaryKCoreNodes)\n",
        "\n",
        "tempGraph = nx.Graph()\n",
        "for x in tdSummaryKCoreNodes:\n",
        "    for y in tdSummaryGraph.vertices[x].neighbors: # getting the neighbour from original graph\n",
        "        if y in tdSummaryKCoreNodes and y > x:\n",
        "            tempGraph.add_edge(x, y)\n",
        "tdSummaryKCoreEdgeList = tempGraph.edges"
      ]
    },
    {
      "cell_type": "markdown",
      "metadata": {
        "id": "mLKKxZClADJu"
      },
      "source": [
        "##Summary matrix for asd files"
      ]
    },
    {
      "cell_type": "code",
      "source": [
        "numOfTrainASDFiles = int(len(asdFiles) * 0.80)\n",
        "numOfTestASDFiles = len(asdFiles) - numOfTrainASDFiles\n",
        "\n",
        "random.shuffle(asdFiles)\n",
        "trainASDFiles = asdFiles[:numOfTrainASDFiles]\n",
        "testASDFiles = asdFiles[numOfTrainASDFiles:]\n",
        "\n",
        "print(\"[ASD Files] Total: \", len(asdFiles))\n",
        "print(\"[ASD Files] Train:\", len(trainASDFiles))\n",
        "print(\"[ASD Files] Test\", len(testASDFiles))"
      ],
      "metadata": {
        "colab": {
          "base_uri": "https://localhost:8080/"
        },
        "id": "JLi_eJu7wkF2",
        "outputId": "4b739d3e-cc9f-485a-fc7e-482769e72782"
      },
      "execution_count": 9,
      "outputs": [
        {
          "output_type": "stream",
          "name": "stdout",
          "text": [
            "[ASD Files] Total:  420\n",
            "[ASD Files] Train: 336\n",
            "[ASD Files] Test 84\n"
          ]
        }
      ]
    },
    {
      "cell_type": "code",
      "execution_count": 10,
      "metadata": {
        "id": "RRpWcyeNAB-X",
        "colab": {
          "base_uri": "https://localhost:8080/"
        },
        "outputId": "5b57f30f-6214-4954-b87d-0255cc2563f7"
      },
      "outputs": [
        {
          "output_type": "stream",
          "name": "stdout",
          "text": [
            "[[1 1 0 ... 0 0 0]\n",
            " [1 1 0 ... 0 0 0]\n",
            " [0 0 1 ... 0 0 0]\n",
            " ...\n",
            " [0 0 0 ... 1 1 0]\n",
            " [0 0 0 ... 1 1 1]\n",
            " [0 0 0 ... 0 1 1]]\n"
          ]
        }
      ],
      "source": [
        "finalMatrix = np.zeros((matSize, matSize), dtype=int)\n",
        "matrix = np.zeros((matSize, matSize), dtype=int)\n",
        "\n",
        "for file in trainASDFiles:\n",
        "    cur_matrix = np.loadtxt(asdDirectory + file, dtype=int)\n",
        "    finalMatrix = finalMatrix + cur_matrix\n",
        "\n",
        "\n",
        "finalMatrix = finalMatrix / len(trainASDFiles)\n",
        "# print(finalMatrix)\n",
        "\n",
        "threshold = 0.75\n",
        "# lowerbound = 45\n",
        "# upperbound = 75\n",
        "# increment = 5\n",
        "# for x in range(lowerbound, upperbound+increment, increment):\n",
        "#   threshold = x / 100\n",
        "tempMatrix = finalMatrix >= threshold\n",
        "tempMatrix = tempMatrix.astype(np.int)\n",
        "asdFinalMatrix = tempMatrix\n",
        "\n",
        "print(asdFinalMatrix)"
      ]
    },
    {
      "cell_type": "markdown",
      "metadata": {
        "id": "kB7dg7KNAz9X"
      },
      "source": [
        "##Populate graph for the asd summary matrix"
      ]
    },
    {
      "cell_type": "code",
      "execution_count": 11,
      "metadata": {
        "id": "f3SMmlvHA2ah"
      },
      "outputs": [],
      "source": [
        "asdSummaryGraph = Graph()\n",
        "n = asdFinalMatrix.shape[0]\n",
        "for x in range(0, n):\n",
        "  asdSummaryGraph.add_vertex(Vertex(x))\n",
        "x = 0;\n",
        "for line in asdFinalMatrix:\n",
        "  y = 0;\n",
        "  for val in line:\n",
        "      if val == 1:\n",
        "          asdSummaryGraph.add_edge(x, y)\n",
        "      y = y + 1\n",
        "  x = x + 1\n",
        "\n",
        "# print(\"adjacency list, representing the neighbors of each node:\")\n",
        "# asdSummaryGraph.print_graph()"
      ]
    },
    {
      "cell_type": "markdown",
      "metadata": {
        "id": "q8reAspPBeu5"
      },
      "source": [
        "##k-core decompositon on asd summary graph"
      ]
    },
    {
      "cell_type": "code",
      "execution_count": 12,
      "metadata": {
        "id": "lmjwlgn2BgxB",
        "colab": {
          "base_uri": "https://localhost:8080/"
        },
        "outputId": "c55de666-a8d5-45be-facd-8a686c3cd67a"
      },
      "outputs": [
        {
          "output_type": "stream",
          "name": "stdout",
          "text": [
            "Max core: 7\n",
            "9 [16, 17, 28, 29, 72, 78, 79, 80, 81]\n"
          ]
        }
      ],
      "source": [
        "asdKCore = k_core_implementation(asdSummaryGraph)\n",
        "# print(kCore)\n",
        "maxKCore = max(asdKCore)\n",
        "print(\"Max core:\", maxKCore)\n",
        "\n",
        "asdSummaryKCoreNodes = []\n",
        "x = 0\n",
        "for val in asdKCore:\n",
        "  if val >= maxKCore:\n",
        "    asdSummaryKCoreNodes.append(x)\n",
        "  x = x + 1\n",
        "print(len(asdSummaryKCoreNodes), asdSummaryKCoreNodes)\n",
        "\n",
        "tempGraph = nx.Graph()\n",
        "for x in asdSummaryKCoreNodes:\n",
        "    for y in asdSummaryGraph.vertices[x].neighbors: # getting the neighbour from original graph\n",
        "        if y in asdSummaryKCoreNodes and y > x:\n",
        "            tempGraph.add_edge(x, y)\n",
        "asdSummaryKCoreEdgeList = tempGraph.edges"
      ]
    },
    {
      "cell_type": "markdown",
      "metadata": {
        "id": "nlu9j_OFt8uf"
      },
      "source": [
        "##For td files calculate jaccard similarity with td and asd summary graph"
      ]
    },
    {
      "cell_type": "code",
      "execution_count": 13,
      "metadata": {
        "id": "Wf-USKMWFlsX",
        "colab": {
          "base_uri": "https://localhost:8080/"
        },
        "outputId": "afae38ff-6eaf-4840-b19a-524b1b3c232e"
      },
      "outputs": [
        {
          "output_type": "stream",
          "name": "stdout",
          "text": [
            "76.19047619047619\n",
            "23.80952380952381\n"
          ]
        }
      ],
      "source": [
        "goodTDfile = 0\n",
        "for file in testTDFiles:\n",
        "    A = np.loadtxt(tdDirectory + file, dtype=int)\n",
        "    # now calculate the k-core nodes for the current file\n",
        "    G = Graph()\n",
        "    n = A.shape[0]\n",
        "    for x in range(0, n):\n",
        "        G.add_vertex(Vertex(x))\n",
        "    x = 0;\n",
        "    for line in A:\n",
        "      y = 0;\n",
        "      for val in line:\n",
        "            if val == 1:\n",
        "                G.add_edge(x, y)\n",
        "            y = y + 1\n",
        "      x = x + 1\n",
        "\n",
        "    kCore = k_core_implementation(G)\n",
        "    maxKCore = max(kCore)\n",
        "\n",
        "    kCoreNodes = []\n",
        "    x = 0\n",
        "    for val in kCore:\n",
        "      if val >= maxKCore:\n",
        "        kCoreNodes.append(x)\n",
        "      x = x + 1\n",
        "\n",
        "    tempGraph = nx.Graph()\n",
        "    for x in kCoreNodes:\n",
        "        for y in G.vertices[x].neighbors: # getting the neighbour from original graph\n",
        "            if y in kCoreNodes and y > x:\n",
        "                tempGraph.add_edge(x, y)\n",
        "    edgeList = tempGraph.edges\n",
        "\n",
        "    # now add the td jaccard similarity\n",
        "    intersectArr = np.intersect1d(kCoreNodes, tdSummaryKCoreNodes, assume_unique = False)\n",
        "    lenA = len(intersectArr)\n",
        "    unionArr = np.union1d(kCoreNodes, tdSummaryKCoreNodes)\n",
        "    lenB = len(unionArr)\n",
        "    tdJaccard = lenA/lenB\n",
        "\n",
        "    # now add the asd jaccard similarity\n",
        "    intersectArr = np.intersect1d(kCoreNodes, asdSummaryKCoreNodes, assume_unique = False)\n",
        "    lenA = len(intersectArr)\n",
        "    unionArr = np.union1d(kCoreNodes, asdSummaryKCoreNodes)\n",
        "    lenB = len(unionArr)\n",
        "    asdJaccard = lenA/lenB\n",
        "\n",
        "    if tdJaccard > asdJaccard:\n",
        "      goodTDfile = goodTDfile + 1\n",
        "\n",
        "GoodTDFilePercentage = (goodTDfile/len(testTDFiles)) *100\n",
        "print(GoodTDFilePercentage)\n",
        "\n",
        "BadTDFilePercentage = 100 - GoodTDFilePercentage\n",
        "print(BadTDFilePercentage)\n",
        "\n",
        "\n",
        "\n"
      ]
    },
    {
      "cell_type": "markdown",
      "metadata": {
        "id": "Fofz1EN0ehVq"
      },
      "source": [
        "##For asd files calculate jaccard similarity with td and asd summary graph"
      ]
    },
    {
      "cell_type": "code",
      "execution_count": 14,
      "metadata": {
        "id": "00YRhaXsi9GX",
        "colab": {
          "base_uri": "https://localhost:8080/"
        },
        "outputId": "162aa27d-1a1b-42de-9893-c842d5d77add"
      },
      "outputs": [
        {
          "output_type": "stream",
          "name": "stdout",
          "text": [
            "13.095238095238097\n",
            "86.9047619047619\n"
          ]
        }
      ],
      "source": [
        "goodASDfile = 0\n",
        "for file in testASDFiles:\n",
        "    A = np.loadtxt(asdDirectory + file, dtype=int)\n",
        "\n",
        "    # now calculate the k-core nodes for the current file\n",
        "    G = Graph()\n",
        "    n = A.shape[0]\n",
        "    for x in range(0, n):\n",
        "        G.add_vertex(Vertex(x))\n",
        "    x = 0;\n",
        "    for line in A:\n",
        "      y = 0;\n",
        "      for val in line:\n",
        "            if val == 1:\n",
        "                G.add_edge(x, y)\n",
        "            y = y + 1\n",
        "      x = x + 1\n",
        "\n",
        "    kCore = k_core_implementation(G)\n",
        "    maxKCore = max(kCore)\n",
        "\n",
        "    kCoreNodes = []\n",
        "    x = 0\n",
        "    for val in kCore:\n",
        "      if val >= maxKCore:\n",
        "        kCoreNodes.append(x)\n",
        "      x = x + 1\n",
        "\n",
        "    tempGraph = nx.Graph()\n",
        "    for x in kCoreNodes:\n",
        "        for y in G.vertices[x].neighbors: # getting the neighbour from original graph\n",
        "            if y in kCoreNodes and y > x:\n",
        "                tempGraph.add_edge(x, y)\n",
        "    edgeList = tempGraph.edges\n",
        "\n",
        "    # now add the td jaccard similarity\n",
        "    intersectArr = np.intersect1d(kCoreNodes, tdSummaryKCoreNodes, assume_unique = False)\n",
        "    lenA = len(intersectArr)\n",
        "    unionArr = np.union1d(kCoreNodes, tdSummaryKCoreNodes)\n",
        "    lenB = len(unionArr)\n",
        "    tdJaccard = lenA/lenB\n",
        "\n",
        "    # now add the asd jaccard similarity\n",
        "    intersectArr = np.intersect1d(kCoreNodes, asdSummaryKCoreNodes, assume_unique = False)\n",
        "    lenA = len(intersectArr)\n",
        "    unionArr = np.union1d(kCoreNodes, asdSummaryKCoreNodes)\n",
        "    lenB = len(unionArr)\n",
        "    asdJaccard = lenA/lenB\n",
        "\n",
        "    if tdJaccard < asdJaccard:\n",
        "      goodASDfile = goodASDfile + 1\n",
        "\n",
        "\n",
        "GoodASDFilePercentage = (goodASDfile/len(testASDFiles)) *100\n",
        "print(GoodASDFilePercentage)\n",
        "\n",
        "BadASDFilePercentage = 100 - GoodASDFilePercentage\n",
        "print(BadASDFilePercentage)\n",
        "\n"
      ]
    }
  ]
}