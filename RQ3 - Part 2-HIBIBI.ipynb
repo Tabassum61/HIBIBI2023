{
  "nbformat": 4,
  "nbformat_minor": 0,
  "metadata": {
    "colab": {
      "provenance": []
    },
    "kernelspec": {
      "name": "python3",
      "display_name": "Python 3"
    },
    "language_info": {
      "name": "python"
    }
  },
  "cells": [
    {
      "cell_type": "code",
      "execution_count": 1,
      "metadata": {
        "id": "XN-j-l4S8iJ9"
      },
      "outputs": [],
      "source": [
        "import pandas as pd\n",
        "import numpy as np\n",
        "import networkx as nx\n",
        "from networkx.algorithms.tree.mst import count\n",
        "\n",
        "from os import listdir\n",
        "from os.path import isfile, join\n",
        "\n",
        "import matplotlib.pyplot as plt\n",
        "\n",
        "from sklearn import datasets\n",
        "from sklearn.tree import DecisionTreeClassifier\n",
        "from sklearn.naive_bayes import GaussianNB\n",
        "from sklearn.linear_model import Perceptron\n",
        "from sklearn.linear_model import LogisticRegression\n",
        "from sklearn.neighbors import KNeighborsClassifier\n",
        "from sklearn import svm\n",
        "from sklearn import metrics\n",
        "from sklearn.metrics import f1_score\n",
        "from sklearn.model_selection import train_test_split\n",
        "from sklearn.ensemble import AdaBoostClassifier\n",
        "from sklearn.ensemble import GradientBoostingClassifier\n",
        "from sklearn.ensemble import RandomForestClassifier\n",
        "from sklearn.neural_network import MLPClassifier\n",
        "import xgboost as xgb\n",
        "import seaborn as sns\n",
        "\n",
        "import time\n",
        "import warnings\n",
        "import random\n",
        "# import xlwt\n",
        "from typing_extensions import Counter\n",
        "\n",
        "warnings.filterwarnings(action = 'ignore')\n",
        "start_time = time.time()"
      ]
    },
    {
      "cell_type": "code",
      "execution_count": 2,
      "metadata": {
        "colab": {
          "base_uri": "https://localhost:8080/"
        },
        "id": "P7_iy04jFbHN",
        "outputId": "de5deda9-e362-4b92-9074-207b91ac2070"
      },
      "outputs": [
        {
          "output_type": "stream",
          "name": "stdout",
          "text": [
            "Drive already mounted at /content/drive; to attempt to forcibly remount, call drive.mount(\"/content/drive\", force_remount=True).\n",
            "/content/drive/MyDrive/Colab Notebooks/datasets/adhd/td/\n"
          ]
        }
      ],
      "source": [
        "from google.colab import drive\n",
        "drive.mount('/content/drive')\n",
        "data_set = []\n",
        "tdDirectory=\"/content/drive/MyDrive/Colab Notebooks/datasets/adhd/td/\"\n",
        "asdDirectory=\"/content/drive/MyDrive/Colab Notebooks/datasets/adhd/td/\"\n",
        "matSize = 116\n",
        "\n",
        "tdFiles = [f for f in listdir(tdDirectory) if isfile(join(tdDirectory, f))]\n",
        "asdFiles = [f for f in listdir(asdDirectory) if isfile(join(asdDirectory, f))]\n",
        "\n",
        "\n",
        "print(tdDirectory)\n",
        "for files in tdFiles:\n",
        "  np.loadtxt(tdDirectory + files)\n"
      ]
    },
    {
      "cell_type": "markdown",
      "metadata": {
        "id": "oNVqiwtUNjRx"
      },
      "source": [
        "## Function to calculate mismatch between two matrix"
      ]
    },
    {
      "cell_type": "code",
      "execution_count": 3,
      "metadata": {
        "id": "rGzULF5gLx6b"
      },
      "outputs": [],
      "source": [
        "def distance(MatA, MatB):\n",
        "  numMismatch = 0\n",
        "  for i in range(matSize):\n",
        "    for j in range(matSize):\n",
        "      if MatA[i][j] != MatB[i][j]:\n",
        "        numMismatch = numMismatch + 1\n",
        "  return numMismatch/2"
      ]
    },
    {
      "cell_type": "markdown",
      "metadata": {
        "id": "O03YKLF1ZGvb"
      },
      "source": [
        "## Hamming distance calculation"
      ]
    },
    {
      "cell_type": "code",
      "execution_count": null,
      "metadata": {
        "id": "oPIffwbAWjDD"
      },
      "outputs": [],
      "source": [
        "%%time\n",
        "totalAsdFiles = 0\n",
        "trueAsdFiles  = 0\n",
        "for curFile in asdFiles:\n",
        "  curMatrix = np.loadtxt(asdDirectory + curFile, dtype=int)\n",
        "  minDistWithAsdFiles = 99999999\n",
        "  outputFileNameAsd = \"N/A\"\n",
        "  for toMatchFile in asdFiles:\n",
        "    if curFile == toMatchFile:\n",
        "       continue\n",
        "    toMatchMatrix = np.loadtxt(asdDirectory + toMatchFile, dtype=int)\n",
        "    curMismatch = distance(curMatrix, toMatchMatrix)\n",
        "    if curMismatch < minDistWithAsdFiles:\n",
        "      minDistWithAsdFiles = curMismatch\n",
        "      outputFileNameAsd = toMatchFile\n",
        "\n",
        "  minDistWithTdFiles = 99999999\n",
        "  outputFileNameTd = \"N/A\"\n",
        "  for toMatchFile in tdFiles:\n",
        "    toMatchMatrix = np.loadtxt(tdDirectory + toMatchFile, dtype=int)\n",
        "    curMismatch = distance(curMatrix, toMatchMatrix)\n",
        "    if curMismatch < minDistWithTdFiles:\n",
        "      minDistWithTdFiles = curMismatch\n",
        "      outputFileNameTd = toMatchFile\n",
        "\n",
        "  if minDistWithAsdFiles < minDistWithTdFiles:\n",
        "    trueAsdFiles = trueAsdFiles + 1\n",
        "  totalAsdFiles = totalAsdFiles + 1\n",
        "  # print(\"File=[Asd][\" + curFile + \"]\" + \" Result={[Asd:\" + outputFileNameAsd + \"][\" + str(minDistWithAsdFiles) + \"], [Td:\" + outputFileNameTd + \"][\" + str(minDistWithTdFiles) + \"]}\")"
      ]
    },
    {
      "cell_type": "code",
      "execution_count": null,
      "metadata": {
        "id": "4G2oUXkuyImr"
      },
      "outputs": [],
      "source": [
        "%%time\n",
        "totalTdFiles = 0\n",
        "trueTdFiles  = 0\n",
        "for curFile in tdFiles:\n",
        "  curMatrix = np.loadtxt(tdDirectory + curFile, dtype=int)\n",
        "  minDistWithAsdFiles = 99999999\n",
        "  outputFileNameAsd = \"N/A\"\n",
        "  for toMatchFile in asdFiles:\n",
        "    toMatchMatrix = np.loadtxt(asdDirectory + toMatchFile, dtype=int)\n",
        "    curMismatch = distance(curMatrix, toMatchMatrix)\n",
        "    if curMismatch < minDistWithAsdFiles:\n",
        "      minDistWithAsdFiles = curMismatch\n",
        "      outputFileNameAsd = toMatchFile\n",
        "\n",
        "  minDistWithTdFiles = 99999999\n",
        "  outputFileNameTd = \"N/A\"\n",
        "  for toMatchFile in tdFiles:\n",
        "    if curFile == toMatchFile:\n",
        "       continue\n",
        "    toMatchMatrix = np.loadtxt(tdDirectory + toMatchFile, dtype=int)\n",
        "    curMismatch = distance(curMatrix, toMatchMatrix)\n",
        "    if curMismatch < minDistWithTdFiles:\n",
        "      minDistWithTdFiles = curMismatch\n",
        "      outputFileNameTd = toMatchFile\n",
        "\n",
        "  if minDistWithAsdFiles < minDistWithTdFiles:\n",
        "    trueTdFiles = trueTdFiles + 1\n",
        "  totalTdFiles = totalTdFiles + 1\n",
        "  # print(\"File=[Td][\" + curFile + \"]\" + \" Result={[Asd:\" + outputFileNameAsd + \"][\" + str(minDistWithAsdFiles) + \"], [Td:\" + outputFileNameTd + \"][\" + str(minDistWithTdFiles) + \"]}\")\n",
        "\n"
      ]
    },
    {
      "cell_type": "markdown",
      "source": [
        "##Print the Result"
      ],
      "metadata": {
        "id": "wfzKntrN7aNy"
      }
    },
    {
      "cell_type": "code",
      "source": [
        "print(\"Total ASD Files: \", totalAsdFiles)\n",
        "print(\"True ASD Files : \", trueAsdFiles)\n",
        "print(\"Total TD Files : \", totalTdFiles)\n",
        "print(\"True TD Files  : \", trueTdFiles)"
      ],
      "metadata": {
        "id": "sO33nnCG7XEg"
      },
      "execution_count": null,
      "outputs": []
    }
  ]
}